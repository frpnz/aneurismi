{
 "cells": [
  {
   "cell_type": "code",
   "execution_count": 1,
   "id": "44bd1180-2c26-447e-abc9-0ab147014808",
   "metadata": {},
   "outputs": [],
   "source": [
    "import pandas as pd"
   ]
  },
  {
   "cell_type": "code",
   "execution_count": 2,
   "id": "fd71230a-c31d-4d45-89f2-bc44763b67fc",
   "metadata": {},
   "outputs": [],
   "source": [
    "filepath = \"/home/frpnz/Projects/aneurismi/aneurismi_fumo - casi.csv\"\n",
    "casi = pd.read_csv(filepath)"
   ]
  },
  {
   "cell_type": "code",
   "execution_count": 3,
   "id": "881adc36-8e8f-460d-9c20-ee19447314de",
   "metadata": {},
   "outputs": [
    {
     "data": {
      "text/html": [
       "<div>\n",
       "<style scoped>\n",
       "    .dataframe tbody tr th:only-of-type {\n",
       "        vertical-align: middle;\n",
       "    }\n",
       "\n",
       "    .dataframe tbody tr th {\n",
       "        vertical-align: top;\n",
       "    }\n",
       "\n",
       "    .dataframe thead th {\n",
       "        text-align: right;\n",
       "    }\n",
       "</style>\n",
       "<table border=\"1\" class=\"dataframe\">\n",
       "  <thead>\n",
       "    <tr style=\"text-align: right;\">\n",
       "      <th></th>\n",
       "      <th>CODICE</th>\n",
       "      <th>CYP2A6*2</th>\n",
       "      <th>CYP2A6 B2</th>\n",
       "      <th>CYP2A6 14</th>\n",
       "      <th>FUMO</th>\n",
       "      <th>MULTIPLI</th>\n",
       "      <th>SANGUINANTI</th>\n",
       "    </tr>\n",
       "  </thead>\n",
       "  <tbody>\n",
       "    <tr>\n",
       "      <th>0</th>\n",
       "      <td>0001A</td>\n",
       "      <td>AA</td>\n",
       "      <td>GG</td>\n",
       "      <td>CC</td>\n",
       "      <td>0</td>\n",
       "      <td>0</td>\n",
       "      <td>1</td>\n",
       "    </tr>\n",
       "    <tr>\n",
       "      <th>1</th>\n",
       "      <td>0002A</td>\n",
       "      <td>AA</td>\n",
       "      <td>AG</td>\n",
       "      <td>CC</td>\n",
       "      <td>0</td>\n",
       "      <td>0</td>\n",
       "      <td>1</td>\n",
       "    </tr>\n",
       "    <tr>\n",
       "      <th>2</th>\n",
       "      <td>0003A</td>\n",
       "      <td>AA</td>\n",
       "      <td>AG</td>\n",
       "      <td>CC</td>\n",
       "      <td>1</td>\n",
       "      <td>0</td>\n",
       "      <td>1</td>\n",
       "    </tr>\n",
       "    <tr>\n",
       "      <th>3</th>\n",
       "      <td>0004A</td>\n",
       "      <td>AA</td>\n",
       "      <td>AA</td>\n",
       "      <td>CC</td>\n",
       "      <td>0</td>\n",
       "      <td>0</td>\n",
       "      <td>1</td>\n",
       "    </tr>\n",
       "    <tr>\n",
       "      <th>4</th>\n",
       "      <td>0005A</td>\n",
       "      <td>AA</td>\n",
       "      <td>AG</td>\n",
       "      <td>CC</td>\n",
       "      <td>0</td>\n",
       "      <td>1</td>\n",
       "      <td>1</td>\n",
       "    </tr>\n",
       "    <tr>\n",
       "      <th>...</th>\n",
       "      <td>...</td>\n",
       "      <td>...</td>\n",
       "      <td>...</td>\n",
       "      <td>...</td>\n",
       "      <td>...</td>\n",
       "      <td>...</td>\n",
       "      <td>...</td>\n",
       "    </tr>\n",
       "    <tr>\n",
       "      <th>326</th>\n",
       "      <td>0354A</td>\n",
       "      <td>AA</td>\n",
       "      <td>AG</td>\n",
       "      <td>CC</td>\n",
       "      <td>0</td>\n",
       "      <td>0</td>\n",
       "      <td>0</td>\n",
       "    </tr>\n",
       "    <tr>\n",
       "      <th>327</th>\n",
       "      <td>0355A</td>\n",
       "      <td>AA</td>\n",
       "      <td>AA</td>\n",
       "      <td>CC</td>\n",
       "      <td>0</td>\n",
       "      <td>1</td>\n",
       "      <td>1</td>\n",
       "    </tr>\n",
       "    <tr>\n",
       "      <th>328</th>\n",
       "      <td>0356A</td>\n",
       "      <td>AT</td>\n",
       "      <td>AG</td>\n",
       "      <td>CC</td>\n",
       "      <td>0</td>\n",
       "      <td>0</td>\n",
       "      <td>0</td>\n",
       "    </tr>\n",
       "    <tr>\n",
       "      <th>329</th>\n",
       "      <td>0357A</td>\n",
       "      <td>AA</td>\n",
       "      <td>AA</td>\n",
       "      <td>CC</td>\n",
       "      <td>1</td>\n",
       "      <td>0</td>\n",
       "      <td>1</td>\n",
       "    </tr>\n",
       "    <tr>\n",
       "      <th>330</th>\n",
       "      <td>0358A</td>\n",
       "      <td>AA</td>\n",
       "      <td>AA</td>\n",
       "      <td>CC</td>\n",
       "      <td>1</td>\n",
       "      <td>0</td>\n",
       "      <td>1</td>\n",
       "    </tr>\n",
       "  </tbody>\n",
       "</table>\n",
       "<p>331 rows × 7 columns</p>\n",
       "</div>"
      ],
      "text/plain": [
       "    CODICE CYP2A6*2 CYP2A6 B2 CYP2A6 14  FUMO  MULTIPLI  SANGUINANTI\n",
       "0    0001A       AA        GG        CC     0         0            1\n",
       "1    0002A       AA        AG        CC     0         0            1\n",
       "2    0003A       AA        AG        CC     1         0            1\n",
       "3    0004A       AA        AA        CC     0         0            1\n",
       "4    0005A       AA        AG        CC     0         1            1\n",
       "..     ...      ...       ...       ...   ...       ...          ...\n",
       "326  0354A       AA        AG        CC     0         0            0\n",
       "327  0355A       AA        AA        CC     0         1            1\n",
       "328  0356A       AT        AG        CC     0         0            0\n",
       "329  0357A       AA        AA        CC     1         0            1\n",
       "330  0358A       AA        AA        CC     1         0            1\n",
       "\n",
       "[331 rows x 7 columns]"
      ]
     },
     "execution_count": 3,
     "metadata": {},
     "output_type": "execute_result"
    }
   ],
   "source": [
    "casi"
   ]
  },
  {
   "cell_type": "code",
   "execution_count": 4,
   "id": "a9172379-8b69-4f40-9023-ea05d2b7361a",
   "metadata": {},
   "outputs": [],
   "source": [
    "filepath = \"/home/frpnz/Projects/aneurismi/aneurismi_fumo - CYP2A6 14.csv\"\n",
    "CYP2A62 = pd.read_csv(filepath)\n",
    "CYP2A62 = CYP2A62[CYP2A62.group == \"patient\"]"
   ]
  },
  {
   "cell_type": "code",
   "execution_count": 5,
   "id": "fba573cd-816a-4ef2-a646-0b09ae706ca3",
   "metadata": {},
   "outputs": [
    {
     "data": {
      "text/html": [
       "<div>\n",
       "<style scoped>\n",
       "    .dataframe tbody tr th:only-of-type {\n",
       "        vertical-align: middle;\n",
       "    }\n",
       "\n",
       "    .dataframe tbody tr th {\n",
       "        vertical-align: top;\n",
       "    }\n",
       "\n",
       "    .dataframe thead th {\n",
       "        text-align: right;\n",
       "    }\n",
       "</style>\n",
       "<table border=\"1\" class=\"dataframe\">\n",
       "  <thead>\n",
       "    <tr style=\"text-align: right;\">\n",
       "      <th></th>\n",
       "      <th>group</th>\n",
       "      <th>allelic variant</th>\n",
       "    </tr>\n",
       "  </thead>\n",
       "  <tbody>\n",
       "    <tr>\n",
       "      <th>0</th>\n",
       "      <td>patient</td>\n",
       "      <td>CC</td>\n",
       "    </tr>\n",
       "    <tr>\n",
       "      <th>1</th>\n",
       "      <td>patient</td>\n",
       "      <td>CC</td>\n",
       "    </tr>\n",
       "    <tr>\n",
       "      <th>2</th>\n",
       "      <td>patient</td>\n",
       "      <td>CC</td>\n",
       "    </tr>\n",
       "    <tr>\n",
       "      <th>3</th>\n",
       "      <td>patient</td>\n",
       "      <td>CC</td>\n",
       "    </tr>\n",
       "    <tr>\n",
       "      <th>4</th>\n",
       "      <td>patient</td>\n",
       "      <td>CC</td>\n",
       "    </tr>\n",
       "    <tr>\n",
       "      <th>...</th>\n",
       "      <td>...</td>\n",
       "      <td>...</td>\n",
       "    </tr>\n",
       "    <tr>\n",
       "      <th>326</th>\n",
       "      <td>patient</td>\n",
       "      <td>CC</td>\n",
       "    </tr>\n",
       "    <tr>\n",
       "      <th>327</th>\n",
       "      <td>patient</td>\n",
       "      <td>CC</td>\n",
       "    </tr>\n",
       "    <tr>\n",
       "      <th>328</th>\n",
       "      <td>patient</td>\n",
       "      <td>CC</td>\n",
       "    </tr>\n",
       "    <tr>\n",
       "      <th>329</th>\n",
       "      <td>patient</td>\n",
       "      <td>CC</td>\n",
       "    </tr>\n",
       "    <tr>\n",
       "      <th>330</th>\n",
       "      <td>patient</td>\n",
       "      <td>CC</td>\n",
       "    </tr>\n",
       "  </tbody>\n",
       "</table>\n",
       "<p>331 rows × 2 columns</p>\n",
       "</div>"
      ],
      "text/plain": [
       "       group allelic variant\n",
       "0    patient              CC\n",
       "1    patient              CC\n",
       "2    patient              CC\n",
       "3    patient              CC\n",
       "4    patient              CC\n",
       "..       ...             ...\n",
       "326  patient              CC\n",
       "327  patient              CC\n",
       "328  patient              CC\n",
       "329  patient              CC\n",
       "330  patient              CC\n",
       "\n",
       "[331 rows x 2 columns]"
      ]
     },
     "execution_count": 5,
     "metadata": {},
     "output_type": "execute_result"
    }
   ],
   "source": [
    "CYP2A62"
   ]
  },
  {
   "cell_type": "code",
   "execution_count": 6,
   "id": "cb5a526b-52f6-4b04-8818-b0fe24d815c1",
   "metadata": {},
   "outputs": [],
   "source": [
    "CYP2A62_multipli = CYP2A62[casi.MULTIPLI == 1]\n",
    "CYP2A62_nomultipli = CYP2A62[casi.MULTIPLI == 0]"
   ]
  },
  {
   "cell_type": "code",
   "execution_count": 7,
   "id": "66996e6c-c053-439e-bdbb-64106e2995d7",
   "metadata": {},
   "outputs": [
    {
     "name": "stderr",
     "output_type": "stream",
     "text": [
      "/tmp/ipykernel_16797/3842056209.py:1: SettingWithCopyWarning: \n",
      "A value is trying to be set on a copy of a slice from a DataFrame.\n",
      "Try using .loc[row_indexer,col_indexer] = value instead\n",
      "\n",
      "See the caveats in the documentation: https://pandas.pydata.org/pandas-docs/stable/user_guide/indexing.html#returning-a-view-versus-a-copy\n",
      "  CYP2A62_multipli[\"multipli\"] = 1\n",
      "/tmp/ipykernel_16797/3842056209.py:2: SettingWithCopyWarning: \n",
      "A value is trying to be set on a copy of a slice from a DataFrame.\n",
      "Try using .loc[row_indexer,col_indexer] = value instead\n",
      "\n",
      "See the caveats in the documentation: https://pandas.pydata.org/pandas-docs/stable/user_guide/indexing.html#returning-a-view-versus-a-copy\n",
      "  CYP2A62_nomultipli[\"multipli\"] = 0\n"
     ]
    }
   ],
   "source": [
    "CYP2A62_multipli[\"multipli\"] = 1\n",
    "CYP2A62_nomultipli[\"multipli\"] = 0"
   ]
  },
  {
   "cell_type": "code",
   "execution_count": 8,
   "id": "34a59485-146e-4549-ba84-ee5ae22122e3",
   "metadata": {},
   "outputs": [],
   "source": [
    "CYP2A62_multipli = pd.concat([CYP2A62_multipli, CYP2A62_nomultipli])\n",
    "CYP2A62_multipli = CYP2A62_multipli.drop([\"group\"], axis=1)"
   ]
  },
  {
   "cell_type": "code",
   "execution_count": 9,
   "id": "b1eaf182-0265-47c4-82e0-a20623451b6f",
   "metadata": {},
   "outputs": [],
   "source": [
    "filepath = \"/home/frpnz/Projects/aneurismi/aneurismi_fumo - CYP2A6 14 - multipli.csv\"\n",
    "CYP2A62_multipli.to_csv(filepath, index=False)"
   ]
  },
  {
   "cell_type": "code",
   "execution_count": 10,
   "id": "31245818-1bda-4fc0-9f2c-28b6af919361",
   "metadata": {},
   "outputs": [
    {
     "name": "stderr",
     "output_type": "stream",
     "text": [
      "/tmp/ipykernel_16797/207628608.py:3: SettingWithCopyWarning: \n",
      "A value is trying to be set on a copy of a slice from a DataFrame.\n",
      "Try using .loc[row_indexer,col_indexer] = value instead\n",
      "\n",
      "See the caveats in the documentation: https://pandas.pydata.org/pandas-docs/stable/user_guide/indexing.html#returning-a-view-versus-a-copy\n",
      "  CYP2A62_sah[\"sah\"] = 1\n",
      "/tmp/ipykernel_16797/207628608.py:4: SettingWithCopyWarning: \n",
      "A value is trying to be set on a copy of a slice from a DataFrame.\n",
      "Try using .loc[row_indexer,col_indexer] = value instead\n",
      "\n",
      "See the caveats in the documentation: https://pandas.pydata.org/pandas-docs/stable/user_guide/indexing.html#returning-a-view-versus-a-copy\n",
      "  CYP2A62_nosah[\"sah\"] = 0\n"
     ]
    }
   ],
   "source": [
    "CYP2A62_sah = CYP2A62[casi.SANGUINANTI == 1]\n",
    "CYP2A62_nosah = CYP2A62[casi.SANGUINANTI == 0]\n",
    "CYP2A62_sah[\"sah\"] = 1\n",
    "CYP2A62_nosah[\"sah\"] = 0\n",
    "CYP2A62_sah = pd.concat([CYP2A62_sah, CYP2A62_nosah])\n",
    "CYP2A62_sah = CYP2A62_sah.drop([\"group\"], axis=1)\n",
    "filepath = \"/home/frpnz/Projects/aneurismi/aneurismi_fumo - CYP2A6 14 - sah.csv\"\n",
    "CYP2A62_sah.to_csv(filepath, index=False)"
   ]
  },
  {
   "cell_type": "code",
   "execution_count": 11,
   "id": "48aa1e2e-9ce7-4089-bc05-a4c3e67dca65",
   "metadata": {},
   "outputs": [
    {
     "name": "stderr",
     "output_type": "stream",
     "text": [
      "/tmp/ipykernel_16797/3165825458.py:3: SettingWithCopyWarning: \n",
      "A value is trying to be set on a copy of a slice from a DataFrame.\n",
      "Try using .loc[row_indexer,col_indexer] = value instead\n",
      "\n",
      "See the caveats in the documentation: https://pandas.pydata.org/pandas-docs/stable/user_guide/indexing.html#returning-a-view-versus-a-copy\n",
      "  CYP2A62_smoke[\"fumo\"] = 1\n",
      "/tmp/ipykernel_16797/3165825458.py:4: SettingWithCopyWarning: \n",
      "A value is trying to be set on a copy of a slice from a DataFrame.\n",
      "Try using .loc[row_indexer,col_indexer] = value instead\n",
      "\n",
      "See the caveats in the documentation: https://pandas.pydata.org/pandas-docs/stable/user_guide/indexing.html#returning-a-view-versus-a-copy\n",
      "  CYP2A62_nosmoke[\"fumo\"] = 0\n"
     ]
    }
   ],
   "source": [
    "CYP2A62_smoke = CYP2A62[casi.FUMO == 1]\n",
    "CYP2A62_nosmoke = CYP2A62[casi.FUMO == 0]\n",
    "CYP2A62_smoke[\"fumo\"] = 1\n",
    "CYP2A62_nosmoke[\"fumo\"] = 0\n",
    "CYP2A62_smoke = pd.concat([CYP2A62_smoke, CYP2A62_nosmoke])\n",
    "CYP2A62_smoke = CYP2A62_smoke.drop([\"group\"], axis=1)\n",
    "filepath = \"/home/frpnz/Projects/aneurismi/aneurismi_fumo - CYP2A6 14 - smoke.csv\"\n",
    "CYP2A62_smoke.to_csv(filepath, index=False)"
   ]
  },
  {
   "cell_type": "code",
   "execution_count": 13,
   "id": "76089aad-0943-4a5c-a2a0-c7c5f14f635c",
   "metadata": {},
   "outputs": [
    {
     "name": "stderr",
     "output_type": "stream",
     "text": [
      "/tmp/ipykernel_16797/1989737586.py:6: SettingWithCopyWarning: \n",
      "A value is trying to be set on a copy of a slice from a DataFrame.\n",
      "Try using .loc[row_indexer,col_indexer] = value instead\n",
      "\n",
      "See the caveats in the documentation: https://pandas.pydata.org/pandas-docs/stable/user_guide/indexing.html#returning-a-view-versus-a-copy\n",
      "  allelic_combinations_smoke[\"fumo\"] = 1\n",
      "/tmp/ipykernel_16797/1989737586.py:7: SettingWithCopyWarning: \n",
      "A value is trying to be set on a copy of a slice from a DataFrame.\n",
      "Try using .loc[row_indexer,col_indexer] = value instead\n",
      "\n",
      "See the caveats in the documentation: https://pandas.pydata.org/pandas-docs/stable/user_guide/indexing.html#returning-a-view-versus-a-copy\n",
      "  allelic_combinations_nosmoke[\"fumo\"] = 0\n"
     ]
    }
   ],
   "source": [
    "filepath = \"/home/frpnz/Projects/aneurismi/aneurismi_fumo - allelic-combinations.csv\"\n",
    "allelic_combinations = pd.read_csv(filepath)\n",
    "allelic_combinations = allelic_combinations[allelic_combinations.group == \"patient\"]\n",
    "allelic_combinations_smoke = allelic_combinations[casi.FUMO == 1]\n",
    "allelic_combinations_nosmoke = allelic_combinations[casi.FUMO == 0]\n",
    "allelic_combinations_smoke[\"fumo\"] = 1\n",
    "allelic_combinations_nosmoke[\"fumo\"] = 0\n",
    "allelic_combinations_smoke = pd.concat([allelic_combinations_smoke, allelic_combinations_nosmoke])\n",
    "allelic_combinations_smoke = allelic_combinations_smoke.drop([\"group\"], axis=1)\n",
    "filepath = \"/home/frpnz/Projects/aneurismi/aneurismi_fumo - allelic_combinations - smoke.csv\"\n",
    "allelic_combinations_smoke.to_csv(filepath, index=False)"
   ]
  },
  {
   "cell_type": "code",
   "execution_count": 14,
   "id": "a3b28cae-65a1-4e14-818b-8bd55428aa80",
   "metadata": {},
   "outputs": [
    {
     "name": "stderr",
     "output_type": "stream",
     "text": [
      "/tmp/ipykernel_16797/2785006082.py:6: SettingWithCopyWarning: \n",
      "A value is trying to be set on a copy of a slice from a DataFrame.\n",
      "Try using .loc[row_indexer,col_indexer] = value instead\n",
      "\n",
      "See the caveats in the documentation: https://pandas.pydata.org/pandas-docs/stable/user_guide/indexing.html#returning-a-view-versus-a-copy\n",
      "  allelic_combinations_sah[\"sah\"] = 1\n",
      "/tmp/ipykernel_16797/2785006082.py:7: SettingWithCopyWarning: \n",
      "A value is trying to be set on a copy of a slice from a DataFrame.\n",
      "Try using .loc[row_indexer,col_indexer] = value instead\n",
      "\n",
      "See the caveats in the documentation: https://pandas.pydata.org/pandas-docs/stable/user_guide/indexing.html#returning-a-view-versus-a-copy\n",
      "  allelic_combinations_nosah[\"sah\"] = 0\n"
     ]
    }
   ],
   "source": [
    "filepath = \"/home/frpnz/Projects/aneurismi/aneurismi_fumo - allelic-combinations.csv\"\n",
    "allelic_combinations = pd.read_csv(filepath)\n",
    "allelic_combinations = allelic_combinations[allelic_combinations.group == \"patient\"]\n",
    "allelic_combinations_sah = allelic_combinations[casi.SANGUINANTI == 1]\n",
    "allelic_combinations_nosah = allelic_combinations[casi.SANGUINANTI == 0]\n",
    "allelic_combinations_sah[\"sah\"] = 1\n",
    "allelic_combinations_nosah[\"sah\"] = 0\n",
    "allelic_combinations_sah = pd.concat([allelic_combinations_sah, allelic_combinations_nosah])\n",
    "allelic_combinations_sah = allelic_combinations_sah.drop([\"group\"], axis=1)\n",
    "filepath = \"/home/frpnz/Projects/aneurismi/aneurismi_fumo - allelic_combinations - sah.csv\"\n",
    "allelic_combinations_sah.to_csv(filepath, index=False)"
   ]
  },
  {
   "cell_type": "code",
   "execution_count": 15,
   "id": "d1aba828-e80c-4ba2-8284-43cd119eff53",
   "metadata": {},
   "outputs": [
    {
     "name": "stderr",
     "output_type": "stream",
     "text": [
      "/tmp/ipykernel_16797/3497659744.py:6: SettingWithCopyWarning: \n",
      "A value is trying to be set on a copy of a slice from a DataFrame.\n",
      "Try using .loc[row_indexer,col_indexer] = value instead\n",
      "\n",
      "See the caveats in the documentation: https://pandas.pydata.org/pandas-docs/stable/user_guide/indexing.html#returning-a-view-versus-a-copy\n",
      "  allelic_combinations_multipli[\"multipli\"] = 1\n",
      "/tmp/ipykernel_16797/3497659744.py:7: SettingWithCopyWarning: \n",
      "A value is trying to be set on a copy of a slice from a DataFrame.\n",
      "Try using .loc[row_indexer,col_indexer] = value instead\n",
      "\n",
      "See the caveats in the documentation: https://pandas.pydata.org/pandas-docs/stable/user_guide/indexing.html#returning-a-view-versus-a-copy\n",
      "  allelic_combinations_nomultipli[\"multipli\"] = 0\n"
     ]
    }
   ],
   "source": [
    "filepath = \"/home/frpnz/Projects/aneurismi/aneurismi_fumo - allelic-combinations.csv\"\n",
    "allelic_combinations = pd.read_csv(filepath)\n",
    "allelic_combinations = allelic_combinations[allelic_combinations.group == \"patient\"]\n",
    "allelic_combinations_multipli = allelic_combinations[casi.MULTIPLI == 1]\n",
    "allelic_combinations_nomultipli = allelic_combinations[casi.MULTIPLI == 0]\n",
    "allelic_combinations_multipli[\"multipli\"] = 1\n",
    "allelic_combinations_nomultipli[\"multipli\"] = 0\n",
    "allelic_combinations_multipli = pd.concat([allelic_combinations_multipli, allelic_combinations_nomultipli])\n",
    "allelic_combinations_multipli = allelic_combinations_multipli.drop([\"group\"], axis=1)\n",
    "filepath = \"/home/frpnz/Projects/aneurismi/aneurismi_fumo - allelic_combinations - multipli.csv\"\n",
    "allelic_combinations_multipli.to_csv(filepath, index=False)"
   ]
  },
  {
   "cell_type": "code",
   "execution_count": 27,
   "id": "735356cd-909f-4b55-b912-ecd1875932e8",
   "metadata": {},
   "outputs": [
    {
     "name": "stderr",
     "output_type": "stream",
     "text": [
      "/tmp/ipykernel_16797/2671584146.py:6: SettingWithCopyWarning: \n",
      "A value is trying to be set on a copy of a slice from a DataFrame.\n",
      "Try using .loc[row_indexer,col_indexer] = value instead\n",
      "\n",
      "See the caveats in the documentation: https://pandas.pydata.org/pandas-docs/stable/user_guide/indexing.html#returning-a-view-versus-a-copy\n",
      "  CYP2A62_smoke_sah[\"smoke_sah\"] = 1\n",
      "/tmp/ipykernel_16797/2671584146.py:7: SettingWithCopyWarning: \n",
      "A value is trying to be set on a copy of a slice from a DataFrame.\n",
      "Try using .loc[row_indexer,col_indexer] = value instead\n",
      "\n",
      "See the caveats in the documentation: https://pandas.pydata.org/pandas-docs/stable/user_guide/indexing.html#returning-a-view-versus-a-copy\n",
      "  CYP2A62_smoke_nosah[\"smoke_sah\"] = 0\n"
     ]
    }
   ],
   "source": [
    "filepath = \"/home/frpnz/Projects/aneurismi/aneurismi_fumo - CYP2A6 14.csv\"\n",
    "CYP2A62 = pd.read_csv(filepath)\n",
    "CYP2A62 = CYP2A62[CYP2A62.group == \"patient\"]\n",
    "CYP2A62_smoke_sah = CYP2A62[(casi.FUMO == 1) & (casi.SANGUINANTI == 1)]\n",
    "CYP2A62_smoke_nosah = CYP2A62[(casi.FUMO == 1) & (casi.SANGUINANTI == 0)]\n",
    "CYP2A62_smoke_sah[\"smoke_sah\"] = 1\n",
    "CYP2A62_smoke_nosah[\"smoke_sah\"] = 0\n",
    "CYP2A62_smoke_sah = pd.concat([CYP2A62_smoke_sah, CYP2A62_smoke_nosah])\n",
    "CYP2A62_smoke_sah = CYP2A62_smoke_sah.drop([\"group\"], axis=1)\n",
    "filepath = \"/home/frpnz/Projects/aneurismi/aneurismi_fumo - CYP2A6 14 - smoke_sah.csv\"\n",
    "CYP2A62_smoke_sah.to_csv(filepath, index=False)"
   ]
  },
  {
   "cell_type": "code",
   "execution_count": 30,
   "id": "ab5131e2-e6c9-4cb2-a2db-19fa9a64b436",
   "metadata": {},
   "outputs": [
    {
     "name": "stderr",
     "output_type": "stream",
     "text": [
      "/tmp/ipykernel_16797/2566286776.py:6: SettingWithCopyWarning: \n",
      "A value is trying to be set on a copy of a slice from a DataFrame.\n",
      "Try using .loc[row_indexer,col_indexer] = value instead\n",
      "\n",
      "See the caveats in the documentation: https://pandas.pydata.org/pandas-docs/stable/user_guide/indexing.html#returning-a-view-versus-a-copy\n",
      "  CYP2A62_smoke_sah[\"smoke_sah\"] = 1\n",
      "/tmp/ipykernel_16797/2566286776.py:7: SettingWithCopyWarning: \n",
      "A value is trying to be set on a copy of a slice from a DataFrame.\n",
      "Try using .loc[row_indexer,col_indexer] = value instead\n",
      "\n",
      "See the caveats in the documentation: https://pandas.pydata.org/pandas-docs/stable/user_guide/indexing.html#returning-a-view-versus-a-copy\n",
      "  CYP2A62_smoke_nosah[\"smoke_sah\"] = 0\n"
     ]
    }
   ],
   "source": [
    "filepath = \"/home/frpnz/Projects/aneurismi/aneurismi_fumo - CYP2A6 14.csv\"\n",
    "CYP2A62 = pd.read_csv(filepath)\n",
    "CYP2A62 = CYP2A62[CYP2A62.group == \"patient\"]\n",
    "CYP2A62_smoke_sah = CYP2A62[(casi.FUMO == 0) & (casi.SANGUINANTI == 1)]\n",
    "CYP2A62_smoke_nosah = CYP2A62[(casi.FUMO == 0) & (casi.SANGUINANTI == 0)]\n",
    "CYP2A62_smoke_sah[\"smoke_sah\"] = 1\n",
    "CYP2A62_smoke_nosah[\"smoke_sah\"] = 0\n",
    "CYP2A62_smoke_sah = pd.concat([CYP2A62_smoke_sah, CYP2A62_smoke_nosah])\n",
    "CYP2A62_smoke_sah = CYP2A62_smoke_sah.drop([\"group\"], axis=1)\n",
    "filepath = \"/home/frpnz/Projects/aneurismi/aneurismi_fumo - CYP2A6 14 - nosmoke_sah.csv\"\n",
    "CYP2A62_smoke_sah.to_csv(filepath, index=False)"
   ]
  },
  {
   "cell_type": "code",
   "execution_count": 31,
   "id": "2d1a641e-9f5a-4abc-ad06-b9fcad5a61ab",
   "metadata": {},
   "outputs": [
    {
     "name": "stderr",
     "output_type": "stream",
     "text": [
      "/tmp/ipykernel_16797/134177054.py:6: SettingWithCopyWarning: \n",
      "A value is trying to be set on a copy of a slice from a DataFrame.\n",
      "Try using .loc[row_indexer,col_indexer] = value instead\n",
      "\n",
      "See the caveats in the documentation: https://pandas.pydata.org/pandas-docs/stable/user_guide/indexing.html#returning-a-view-versus-a-copy\n",
      "  allelic_combinations_smoke[\"fumo\"] = 1\n",
      "/tmp/ipykernel_16797/134177054.py:7: SettingWithCopyWarning: \n",
      "A value is trying to be set on a copy of a slice from a DataFrame.\n",
      "Try using .loc[row_indexer,col_indexer] = value instead\n",
      "\n",
      "See the caveats in the documentation: https://pandas.pydata.org/pandas-docs/stable/user_guide/indexing.html#returning-a-view-versus-a-copy\n",
      "  allelic_combinations_nosmoke[\"fumo\"] = 0\n"
     ]
    }
   ],
   "source": [
    "filepath = \"/home/frpnz/Projects/aneurismi/aneurismi_fumo - allelic-combinations.csv\"\n",
    "allelic_combinations = pd.read_csv(filepath)\n",
    "allelic_combinations = allelic_combinations[allelic_combinations.group == \"patient\"]\n",
    "allelic_combinations_smoke = allelic_combinations[(casi.FUMO == 1) & (casi.SANGUINANTI == 1)]\n",
    "allelic_combinations_nosmoke = allelic_combinations[(casi.FUMO == 1) & (casi.SANGUINANTI == 0)]\n",
    "allelic_combinations_smoke[\"fumo\"] = 1\n",
    "allelic_combinations_nosmoke[\"fumo\"] = 0\n",
    "allelic_combinations_smoke = pd.concat([allelic_combinations_smoke, allelic_combinations_nosmoke])\n",
    "allelic_combinations_smoke = allelic_combinations_smoke.drop([\"group\"], axis=1)\n",
    "filepath = \"/home/frpnz/Projects/aneurismi/aneurismi_fumo - allelic_combinations - smoke_sah.csv\"\n",
    "allelic_combinations_smoke.to_csv(filepath, index=False)"
   ]
  },
  {
   "cell_type": "code",
   "execution_count": 32,
   "id": "617ed0db-3907-49bd-8fe2-d7a0063b3d05",
   "metadata": {},
   "outputs": [
    {
     "name": "stderr",
     "output_type": "stream",
     "text": [
      "/tmp/ipykernel_16797/3695518825.py:6: SettingWithCopyWarning: \n",
      "A value is trying to be set on a copy of a slice from a DataFrame.\n",
      "Try using .loc[row_indexer,col_indexer] = value instead\n",
      "\n",
      "See the caveats in the documentation: https://pandas.pydata.org/pandas-docs/stable/user_guide/indexing.html#returning-a-view-versus-a-copy\n",
      "  allelic_combinations_smoke[\"fumo\"] = 1\n",
      "/tmp/ipykernel_16797/3695518825.py:7: SettingWithCopyWarning: \n",
      "A value is trying to be set on a copy of a slice from a DataFrame.\n",
      "Try using .loc[row_indexer,col_indexer] = value instead\n",
      "\n",
      "See the caveats in the documentation: https://pandas.pydata.org/pandas-docs/stable/user_guide/indexing.html#returning-a-view-versus-a-copy\n",
      "  allelic_combinations_nosmoke[\"fumo\"] = 0\n"
     ]
    }
   ],
   "source": [
    "filepath = \"/home/frpnz/Projects/aneurismi/aneurismi_fumo - allelic-combinations.csv\"\n",
    "allelic_combinations = pd.read_csv(filepath)\n",
    "allelic_combinations = allelic_combinations[allelic_combinations.group == \"patient\"]\n",
    "allelic_combinations_smoke = allelic_combinations[(casi.FUMO == 0) & (casi.SANGUINANTI == 1)]\n",
    "allelic_combinations_nosmoke = allelic_combinations[(casi.FUMO == 0) & (casi.SANGUINANTI == 0)]\n",
    "allelic_combinations_smoke[\"fumo\"] = 1\n",
    "allelic_combinations_nosmoke[\"fumo\"] = 0\n",
    "allelic_combinations_smoke = pd.concat([allelic_combinations_smoke, allelic_combinations_nosmoke])\n",
    "allelic_combinations_smoke = allelic_combinations_smoke.drop([\"group\"], axis=1)\n",
    "filepath = \"/home/frpnz/Projects/aneurismi/aneurismi_fumo - allelic_combinations - nosmoke_sah.csv\"\n",
    "allelic_combinations_smoke.to_csv(filepath, index=False)"
   ]
  }
 ],
 "metadata": {
  "kernelspec": {
   "display_name": "Python 3 (ipykernel)",
   "language": "python",
   "name": "python3"
  },
  "language_info": {
   "codemirror_mode": {
    "name": "ipython",
    "version": 3
   },
   "file_extension": ".py",
   "mimetype": "text/x-python",
   "name": "python",
   "nbconvert_exporter": "python",
   "pygments_lexer": "ipython3",
   "version": "3.10.6"
  }
 },
 "nbformat": 4,
 "nbformat_minor": 5
}
