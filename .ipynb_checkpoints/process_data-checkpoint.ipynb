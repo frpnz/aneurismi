{
 "cells": [
  {
   "cell_type": "code",
   "execution_count": 1,
   "id": "44bd1180-2c26-447e-abc9-0ab147014808",
   "metadata": {
    "tags": []
   },
   "outputs": [],
   "source": [
    "import pandas as pd"
   ]
  },
  {
   "cell_type": "markdown",
   "id": "476b0925-649d-43f9-a4b2-4311e4a303f7",
   "metadata": {},
   "source": [
    "## Clinical features in patients\n",
    "- Serve filtrare sulle clinical features\n",
    "- cambiare l'allele (CYP2A6 2/B2/14) per creare i vari dataframe"
   ]
  },
  {
   "cell_type": "markdown",
   "id": "ac9c93ad-8b78-4df4-b286-fa5b57b9ce56",
   "metadata": {},
   "source": [
    "### Casi"
   ]
  },
  {
   "cell_type": "code",
   "execution_count": 2,
   "id": "fd71230a-c31d-4d45-89f2-bc44763b67fc",
   "metadata": {
    "tags": []
   },
   "outputs": [],
   "source": [
    "filepath = \"/home/frpnz/Projects/aneurismi/aneurismi_fumo - casi.csv\"\n",
    "casi = pd.read_csv(filepath)"
   ]
  },
  {
   "cell_type": "code",
   "execution_count": null,
   "id": "a9172379-8b69-4f40-9023-ea05d2b7361a",
   "metadata": {},
   "outputs": [],
   "source": [
    "filepath = \"/home/frpnz/Projects/aneurismi/aneurismi_fumo - CYP2A6 14.csv\"\n",
    "CYP2A62 = pd.read_csv(filepath)\n",
    "CYP2A62 = CYP2A62[CYP2A62.group == \"patient\"]"
   ]
  },
  {
   "cell_type": "code",
   "execution_count": null,
   "id": "cb5a526b-52f6-4b04-8818-b0fe24d815c1",
   "metadata": {},
   "outputs": [],
   "source": [
    "CYP2A62_multipli = CYP2A62[casi.MULTIPLI == 1]\n",
    "CYP2A62_nomultipli = CYP2A62[casi.MULTIPLI == 0]"
   ]
  },
  {
   "cell_type": "code",
   "execution_count": null,
   "id": "66996e6c-c053-439e-bdbb-64106e2995d7",
   "metadata": {},
   "outputs": [],
   "source": [
    "CYP2A62_multipli[\"multipli\"] = 1\n",
    "CYP2A62_nomultipli[\"multipli\"] = 0"
   ]
  },
  {
   "cell_type": "code",
   "execution_count": null,
   "id": "34a59485-146e-4549-ba84-ee5ae22122e3",
   "metadata": {},
   "outputs": [],
   "source": [
    "CYP2A62_multipli = pd.concat([CYP2A62_multipli, CYP2A62_nomultipli])\n",
    "CYP2A62_multipli = CYP2A62_multipli.drop([\"group\"], axis=1)"
   ]
  },
  {
   "cell_type": "code",
   "execution_count": null,
   "id": "b1eaf182-0265-47c4-82e0-a20623451b6f",
   "metadata": {},
   "outputs": [],
   "source": [
    "filepath = \"/home/frpnz/Projects/aneurismi/aneurismi_fumo - CYP2A6 14 - multipli.csv\"\n",
    "CYP2A62_multipli.to_csv(filepath, index=False)"
   ]
  },
  {
   "cell_type": "code",
   "execution_count": null,
   "id": "31245818-1bda-4fc0-9f2c-28b6af919361",
   "metadata": {},
   "outputs": [],
   "source": [
    "CYP2A62_sah = CYP2A62[casi.SANGUINANTI == 1]\n",
    "CYP2A62_nosah = CYP2A62[casi.SANGUINANTI == 0]\n",
    "CYP2A62_sah[\"sah\"] = 1\n",
    "CYP2A62_nosah[\"sah\"] = 0\n",
    "CYP2A62_sah = pd.concat([CYP2A62_sah, CYP2A62_nosah])\n",
    "CYP2A62_sah = CYP2A62_sah.drop([\"group\"], axis=1)\n",
    "filepath = \"/home/frpnz/Projects/aneurismi/aneurismi_fumo - CYP2A6 14 - sah.csv\"\n",
    "CYP2A62_sah.to_csv(filepath, index=False)"
   ]
  },
  {
   "cell_type": "code",
   "execution_count": null,
   "id": "48aa1e2e-9ce7-4089-bc05-a4c3e67dca65",
   "metadata": {},
   "outputs": [],
   "source": [
    "CYP2A62_smoke = CYP2A62[casi.FUMO == 1]\n",
    "CYP2A62_nosmoke = CYP2A62[casi.FUMO == 0]\n",
    "CYP2A62_smoke[\"fumo\"] = 1\n",
    "CYP2A62_nosmoke[\"fumo\"] = 0\n",
    "CYP2A62_smoke = pd.concat([CYP2A62_smoke, CYP2A62_nosmoke])\n",
    "CYP2A62_smoke = CYP2A62_smoke.drop([\"group\"], axis=1)\n",
    "filepath = \"/home/frpnz/Projects/aneurismi/aneurismi_fumo - CYP2A6 14 - smoke.csv\"\n",
    "CYP2A62_smoke.to_csv(filepath, index=False)"
   ]
  },
  {
   "cell_type": "code",
   "execution_count": null,
   "id": "76089aad-0943-4a5c-a2a0-c7c5f14f635c",
   "metadata": {},
   "outputs": [],
   "source": [
    "filepath = \"/home/frpnz/Projects/aneurismi/aneurismi_fumo - allelic-combinations.csv\"\n",
    "allelic_combinations = pd.read_csv(filepath)\n",
    "allelic_combinations = allelic_combinations[allelic_combinations.group == \"patient\"]\n",
    "allelic_combinations_smoke = allelic_combinations[casi.FUMO == 1]\n",
    "allelic_combinations_nosmoke = allelic_combinations[casi.FUMO == 0]\n",
    "allelic_combinations_smoke[\"fumo\"] = 1\n",
    "allelic_combinations_nosmoke[\"fumo\"] = 0\n",
    "allelic_combinations_smoke = pd.concat([allelic_combinations_smoke, allelic_combinations_nosmoke])\n",
    "allelic_combinations_smoke = allelic_combinations_smoke.drop([\"group\"], axis=1)\n",
    "filepath = \"/home/frpnz/Projects/aneurismi/aneurismi_fumo - allelic_combinations - smoke.csv\"\n",
    "allelic_combinations_smoke.to_csv(filepath, index=False)"
   ]
  },
  {
   "cell_type": "code",
   "execution_count": null,
   "id": "a3b28cae-65a1-4e14-818b-8bd55428aa80",
   "metadata": {},
   "outputs": [],
   "source": [
    "filepath = \"/home/frpnz/Projects/aneurismi/aneurismi_fumo - allelic-combinations.csv\"\n",
    "allelic_combinations = pd.read_csv(filepath)\n",
    "allelic_combinations = allelic_combinations[allelic_combinations.group == \"patient\"]\n",
    "allelic_combinations_sah = allelic_combinations[casi.SANGUINANTI == 1]\n",
    "allelic_combinations_nosah = allelic_combinations[casi.SANGUINANTI == 0]\n",
    "allelic_combinations_sah[\"sah\"] = 1\n",
    "allelic_combinations_nosah[\"sah\"] = 0\n",
    "allelic_combinations_sah = pd.concat([allelic_combinations_sah, allelic_combinations_nosah])\n",
    "allelic_combinations_sah = allelic_combinations_sah.drop([\"group\"], axis=1)\n",
    "filepath = \"/home/frpnz/Projects/aneurismi/aneurismi_fumo - allelic_combinations - sah.csv\"\n",
    "allelic_combinations_sah.to_csv(filepath, index=False)"
   ]
  },
  {
   "cell_type": "code",
   "execution_count": null,
   "id": "d1aba828-e80c-4ba2-8284-43cd119eff53",
   "metadata": {},
   "outputs": [],
   "source": [
    "filepath = \"/home/frpnz/Projects/aneurismi/aneurismi_fumo - allelic-combinations.csv\"\n",
    "allelic_combinations = pd.read_csv(filepath)\n",
    "allelic_combinations = allelic_combinations[allelic_combinations.group == \"patient\"]\n",
    "allelic_combinations_multipli = allelic_combinations[casi.MULTIPLI == 1]\n",
    "allelic_combinations_nomultipli = allelic_combinations[casi.MULTIPLI == 0]\n",
    "allelic_combinations_multipli[\"multipli\"] = 1\n",
    "allelic_combinations_nomultipli[\"multipli\"] = 0\n",
    "allelic_combinations_multipli = pd.concat([allelic_combinations_multipli, allelic_combinations_nomultipli])\n",
    "allelic_combinations_multipli = allelic_combinations_multipli.drop([\"group\"], axis=1)\n",
    "filepath = \"/home/frpnz/Projects/aneurismi/aneurismi_fumo - allelic_combinations - multipli.csv\"\n",
    "allelic_combinations_multipli.to_csv(filepath, index=False)"
   ]
  },
  {
   "cell_type": "markdown",
   "id": "4c384f2e-5671-479e-9f56-03db8a73d29f",
   "metadata": {},
   "source": [
    "## Single polymorphisms and combinations correlation with IA rupture and smoking habits\n",
    "Sostanzialmente si isola una feature clinica alla volta e si valuta fumo vs non fumo"
   ]
  },
  {
   "cell_type": "code",
   "execution_count": 3,
   "id": "5921c2c1-c939-4269-a83d-be898a14720c",
   "metadata": {
    "tags": []
   },
   "outputs": [
    {
     "data": {
      "text/plain": [
       "Index(['CODICE', 'CYP2A6*2', 'CYP2A6 B2', 'CYP2A6 14', 'FUMO', 'MULTIPLI',\n",
       "       'SANGUINANTI'],\n",
       "      dtype='object')"
      ]
     },
     "execution_count": 3,
     "metadata": {},
     "output_type": "execute_result"
    }
   ],
   "source": [
    "casi.columns"
   ]
  },
  {
   "cell_type": "markdown",
   "id": "21791bff-4716-4bea-b257-aa14bd63e367",
   "metadata": {},
   "source": [
    "#### Smoke + sah"
   ]
  },
  {
   "cell_type": "code",
   "execution_count": 4,
   "id": "7c7c55da-c9a7-42b4-bde4-0ff673a12caa",
   "metadata": {
    "tags": []
   },
   "outputs": [],
   "source": [
    "filepath = \"/home/frpnz/Projects/aneurismi/aneurismi_fumo - CYP2A6 B2.csv\"\n",
    "CYP2A62 = pd.read_csv(filepath)\n",
    "CYP2A62 = CYP2A62[CYP2A62.group == \"patient\"]\n",
    "CYP2A62_smoke_sah = CYP2A62[(casi.FUMO == 1) & (casi.SANGUINANTI == 1)]\n",
    "CYP2A62_smoke_sah = CYP2A62_smoke_sah.drop([\"group\"], axis=1)"
   ]
  },
  {
   "cell_type": "markdown",
   "id": "e0bfff43-b8ef-4393-be9e-76fbe0800425",
   "metadata": {},
   "source": [
    "#### No smoke + sah"
   ]
  },
  {
   "cell_type": "code",
   "execution_count": 5,
   "id": "56312967-ad84-4bf1-ae16-f79c2da0abfd",
   "metadata": {
    "tags": []
   },
   "outputs": [],
   "source": [
    "CYP2A62 = CYP2A62[CYP2A62.group == \"patient\"]\n",
    "CYP2A62_nosmoke_sah = CYP2A62[(casi.FUMO == 0) & (casi.SANGUINANTI == 1)]\n",
    "CYP2A62_nosmoke_sah = CYP2A62_nosmoke_sah.drop([\"group\"], axis=1)"
   ]
  },
  {
   "cell_type": "markdown",
   "id": "ff8080c9-de41-4fab-ae0c-d3538094e3c9",
   "metadata": {},
   "source": [
    "#### Smoke + no sah"
   ]
  },
  {
   "cell_type": "code",
   "execution_count": 6,
   "id": "fcb9d14a-4e26-400c-8828-bd04c1409740",
   "metadata": {
    "tags": []
   },
   "outputs": [],
   "source": [
    "CYP2A62 = CYP2A62[CYP2A62.group == \"patient\"]\n",
    "CYP2A62_smoke_nosah = CYP2A62[(casi.FUMO == 1) & (casi.SANGUINANTI == 0)]\n",
    "CYP2A62_smoke_nosah = CYP2A62_smoke_nosah.drop([\"group\"], axis=1)"
   ]
  },
  {
   "cell_type": "markdown",
   "id": "4677f7a4-5d84-4396-ba5d-36df6ffdf7ff",
   "metadata": {
    "tags": []
   },
   "source": [
    "#### No smoke + no sah"
   ]
  },
  {
   "cell_type": "code",
   "execution_count": 7,
   "id": "ed398eb0-15e5-429c-b565-9d836bdca919",
   "metadata": {
    "tags": []
   },
   "outputs": [],
   "source": [
    "CYP2A62 = CYP2A62[CYP2A62.group == \"patient\"]\n",
    "CYP2A62_nosmoke_nosah = CYP2A62[(casi.FUMO == 0) & (casi.SANGUINANTI == 0)]\n",
    "CYP2A62_nosmoke_nosah = CYP2A62_nosmoke_nosah.drop([\"group\"], axis=1)"
   ]
  },
  {
   "cell_type": "markdown",
   "id": "762c6b6f-469d-4d74-bbcd-525ef2129cc8",
   "metadata": {},
   "source": [
    "### Smoke + SAH vs No smoke + SAH"
   ]
  },
  {
   "cell_type": "code",
   "execution_count": 8,
   "id": "0aaf5120-6da4-45f7-9ec5-ca5dc1eca21a",
   "metadata": {
    "tags": []
   },
   "outputs": [],
   "source": [
    "smoke_sah = [1]*len(CYP2A62_smoke_sah)\n",
    "nosmoke_sah = [0]*len(CYP2A62_nosmoke_sah)\n",
    "sah = pd.concat([CYP2A62_smoke_sah, CYP2A62_nosmoke_sah])\n",
    "sah[\"Smoke + SAH\"] = smoke_sah + nosmoke_sah\n",
    "filepath = \"/home/frpnz/Projects/aneurismi/aneurismi_fumo - sah - smoke - nosmoke.csv\"\n",
    "sah.to_csv(filepath, index=False)"
   ]
  },
  {
   "cell_type": "markdown",
   "id": "2c2eb6ad-05b7-4c1c-af37-b2138684d068",
   "metadata": {},
   "source": [
    "### Smoke + NOSAH vs No smoke + NOSAH"
   ]
  },
  {
   "cell_type": "code",
   "execution_count": 10,
   "id": "52a2781a-b31a-437f-96d3-b0a08aede141",
   "metadata": {
    "tags": []
   },
   "outputs": [],
   "source": [
    "smoke_nosah = [1]*len(CYP2A62_smoke_nosah)\n",
    "nosmoke_nosah = [0]*len(CYP2A62_nosmoke_nosah)\n",
    "nosah = pd.concat([CYP2A62_smoke_nosah, CYP2A62_nosmoke_nosah])\n",
    "nosah[\"Smoke + NO SAH\"] = smoke_nosah + nosmoke_nosah\n",
    "filepath = \"/home/frpnz/Projects/aneurismi/aneurismi_fumo - no sah - smoke - nosmoke.csv\"\n",
    "nosah.to_csv(filepath, index=False)"
   ]
  }
 ],
 "metadata": {
  "kernelspec": {
   "display_name": "Python 3 (ipykernel)",
   "language": "python",
   "name": "python3"
  },
  "language_info": {
   "codemirror_mode": {
    "name": "ipython",
    "version": 3
   },
   "file_extension": ".py",
   "mimetype": "text/x-python",
   "name": "python",
   "nbconvert_exporter": "python",
   "pygments_lexer": "ipython3",
   "version": "3.9.12"
  }
 },
 "nbformat": 4,
 "nbformat_minor": 5
}
